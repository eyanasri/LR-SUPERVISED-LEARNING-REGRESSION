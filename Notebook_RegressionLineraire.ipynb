{
 "cells": [
  {
   "cell_type": "markdown",
   "metadata": {
    "id": "Cu5TwnCG4i13"
   },
   "source": [
    "Objectif: Il s’agit de prédire le prix de biens immobiliers en fonction d’informations concernant l’environnement en utilisant le dataset `BOSTON`. \n",
    "Pour plus d'information : [boston](https://www.cs.toronto.edu/~delve/data/boston/bostonDetail.html)"
   ]
  },
  {
   "cell_type": "code",
   "execution_count": 63,
   "metadata": {
    "id": "DmIGy_Pw4i13"
   },
   "outputs": [],
   "source": [
    "#Chargement des bibliothèques\n",
    "import numpy as np \n",
    "import pandas as pd \n",
    "import matplotlib.pyplot as plt "
   ]
  },
  {
   "cell_type": "code",
   "execution_count": 64,
   "metadata": {
    "colab": {
     "base_uri": "https://localhost:8080/",
     "height": 195
    },
    "id": "9HFF65cb4i13",
    "outputId": "debe41b6-54de-457b-fc16-99b39800afdd"
   },
   "outputs": [
    {
     "data": {
      "text/html": [
       "<div>\n",
       "<style scoped>\n",
       "    .dataframe tbody tr th:only-of-type {\n",
       "        vertical-align: middle;\n",
       "    }\n",
       "\n",
       "    .dataframe tbody tr th {\n",
       "        vertical-align: top;\n",
       "    }\n",
       "\n",
       "    .dataframe thead th {\n",
       "        text-align: right;\n",
       "    }\n",
       "</style>\n",
       "<table border=\"1\" class=\"dataframe\">\n",
       "  <thead>\n",
       "    <tr style=\"text-align: right;\">\n",
       "      <th></th>\n",
       "      <th>CRIM</th>\n",
       "      <th>ZN</th>\n",
       "      <th>INDUS</th>\n",
       "      <th>CHAS</th>\n",
       "      <th>NOX</th>\n",
       "      <th>RM</th>\n",
       "      <th>AGE</th>\n",
       "      <th>DIS</th>\n",
       "      <th>RAD</th>\n",
       "      <th>TAX</th>\n",
       "      <th>PTRATIO</th>\n",
       "      <th>LSTAT</th>\n",
       "      <th>MEDV</th>\n",
       "    </tr>\n",
       "  </thead>\n",
       "  <tbody>\n",
       "    <tr>\n",
       "      <th>0</th>\n",
       "      <td>0.00632</td>\n",
       "      <td>18.0</td>\n",
       "      <td>2.31</td>\n",
       "      <td>0</td>\n",
       "      <td>0.538</td>\n",
       "      <td>6.575</td>\n",
       "      <td>65.2</td>\n",
       "      <td>4.0900</td>\n",
       "      <td>1</td>\n",
       "      <td>296</td>\n",
       "      <td>15.3</td>\n",
       "      <td>4.98</td>\n",
       "      <td>24.0</td>\n",
       "    </tr>\n",
       "    <tr>\n",
       "      <th>1</th>\n",
       "      <td>0.02731</td>\n",
       "      <td>0.0</td>\n",
       "      <td>7.07</td>\n",
       "      <td>0</td>\n",
       "      <td>0.469</td>\n",
       "      <td>6.421</td>\n",
       "      <td>78.9</td>\n",
       "      <td>4.9671</td>\n",
       "      <td>2</td>\n",
       "      <td>242</td>\n",
       "      <td>17.8</td>\n",
       "      <td>9.14</td>\n",
       "      <td>21.6</td>\n",
       "    </tr>\n",
       "    <tr>\n",
       "      <th>2</th>\n",
       "      <td>0.02729</td>\n",
       "      <td>0.0</td>\n",
       "      <td>7.07</td>\n",
       "      <td>0</td>\n",
       "      <td>0.469</td>\n",
       "      <td>7.185</td>\n",
       "      <td>61.1</td>\n",
       "      <td>4.9671</td>\n",
       "      <td>2</td>\n",
       "      <td>242</td>\n",
       "      <td>17.8</td>\n",
       "      <td>4.03</td>\n",
       "      <td>34.7</td>\n",
       "    </tr>\n",
       "    <tr>\n",
       "      <th>3</th>\n",
       "      <td>0.03237</td>\n",
       "      <td>0.0</td>\n",
       "      <td>2.18</td>\n",
       "      <td>0</td>\n",
       "      <td>0.458</td>\n",
       "      <td>6.998</td>\n",
       "      <td>45.8</td>\n",
       "      <td>6.0622</td>\n",
       "      <td>3</td>\n",
       "      <td>222</td>\n",
       "      <td>18.7</td>\n",
       "      <td>2.94</td>\n",
       "      <td>33.4</td>\n",
       "    </tr>\n",
       "    <tr>\n",
       "      <th>4</th>\n",
       "      <td>0.06905</td>\n",
       "      <td>0.0</td>\n",
       "      <td>2.18</td>\n",
       "      <td>0</td>\n",
       "      <td>0.458</td>\n",
       "      <td>7.147</td>\n",
       "      <td>54.2</td>\n",
       "      <td>6.0622</td>\n",
       "      <td>3</td>\n",
       "      <td>222</td>\n",
       "      <td>18.7</td>\n",
       "      <td>5.33</td>\n",
       "      <td>36.2</td>\n",
       "    </tr>\n",
       "  </tbody>\n",
       "</table>\n",
       "</div>"
      ],
      "text/plain": [
       "      CRIM   ZN   INDUS   CHAS    NOX  ...  RAD  TAX  PTRATIO  LSTAT  MEDV\n",
       "0  0.00632  18.0    2.31     0  0.538  ...    1  296     15.3   4.98  24.0\n",
       "1  0.02731   0.0    7.07     0  0.469  ...    2  242     17.8   9.14  21.6\n",
       "2  0.02729   0.0    7.07     0  0.469  ...    2  242     17.8   4.03  34.7\n",
       "3  0.03237   0.0    2.18     0  0.458  ...    3  222     18.7   2.94  33.4\n",
       "4  0.06905   0.0    2.18     0  0.458  ...    3  222     18.7   5.33  36.2\n",
       "\n",
       "[5 rows x 13 columns]"
      ]
     },
     "execution_count": 64,
     "metadata": {
      "tags": []
     },
     "output_type": "execute_result"
    }
   ],
   "source": [
    "#Chargement des données\n",
    "boston = pd.read_csv('boston.csv')\n",
    "boston.head()  "
   ]
  },
  {
   "cell_type": "code",
   "execution_count": 65,
   "metadata": {
    "colab": {
     "base_uri": "https://localhost:8080/"
    },
    "id": "-Ns9EKsU4i14",
    "outputId": "a794d947-4874-4bed-be66-ac613760a751"
   },
   "outputs": [
    {
     "data": {
      "text/plain": [
       "(506, 13)"
      ]
     },
     "execution_count": 65,
     "metadata": {
      "tags": []
     },
     "output_type": "execute_result"
    }
   ],
   "source": [
    "boston.shape"
   ]
  },
  {
   "cell_type": "code",
   "execution_count": 66,
   "metadata": {
    "colab": {
     "base_uri": "https://localhost:8080/"
    },
    "id": "C-9GWhW14i14",
    "outputId": "c1499263-f984-476f-a0aa-26419f457122"
   },
   "outputs": [
    {
     "name": "stdout",
     "output_type": "stream",
     "text": [
      "<class 'pandas.core.frame.DataFrame'>\n",
      "RangeIndex: 506 entries, 0 to 505\n",
      "Data columns (total 13 columns):\n",
      " #   Column   Non-Null Count  Dtype  \n",
      "---  ------   --------------  -----  \n",
      " 0   CRIM     506 non-null    float64\n",
      " 1    ZN      506 non-null    float64\n",
      " 2   INDUS    506 non-null    float64\n",
      " 3   CHAS     506 non-null    int64  \n",
      " 4   NOX      506 non-null    float64\n",
      " 5   RM       506 non-null    float64\n",
      " 6   AGE      506 non-null    float64\n",
      " 7   DIS      506 non-null    float64\n",
      " 8   RAD      506 non-null    int64  \n",
      " 9   TAX      506 non-null    int64  \n",
      " 10  PTRATIO  506 non-null    float64\n",
      " 11  LSTAT    506 non-null    float64\n",
      " 12  MEDV     506 non-null    float64\n",
      "dtypes: float64(10), int64(3)\n",
      "memory usage: 51.5 KB\n"
     ]
    }
   ],
   "source": [
    "boston.info()"
   ]
  },
  {
   "cell_type": "code",
   "execution_count": 67,
   "metadata": {
    "colab": {
     "base_uri": "https://localhost:8080/",
     "height": 304
    },
    "id": "V5skoRMb4i14",
    "outputId": "6429477c-b544-4fe8-be81-56c2175f0480"
   },
   "outputs": [
    {
     "data": {
      "text/html": [
       "<div>\n",
       "<style scoped>\n",
       "    .dataframe tbody tr th:only-of-type {\n",
       "        vertical-align: middle;\n",
       "    }\n",
       "\n",
       "    .dataframe tbody tr th {\n",
       "        vertical-align: top;\n",
       "    }\n",
       "\n",
       "    .dataframe thead th {\n",
       "        text-align: right;\n",
       "    }\n",
       "</style>\n",
       "<table border=\"1\" class=\"dataframe\">\n",
       "  <thead>\n",
       "    <tr style=\"text-align: right;\">\n",
       "      <th></th>\n",
       "      <th>CRIM</th>\n",
       "      <th>ZN</th>\n",
       "      <th>INDUS</th>\n",
       "      <th>CHAS</th>\n",
       "      <th>NOX</th>\n",
       "      <th>RM</th>\n",
       "      <th>AGE</th>\n",
       "      <th>DIS</th>\n",
       "      <th>RAD</th>\n",
       "      <th>TAX</th>\n",
       "      <th>PTRATIO</th>\n",
       "      <th>LSTAT</th>\n",
       "      <th>MEDV</th>\n",
       "    </tr>\n",
       "  </thead>\n",
       "  <tbody>\n",
       "    <tr>\n",
       "      <th>count</th>\n",
       "      <td>506.000000</td>\n",
       "      <td>506.000000</td>\n",
       "      <td>506.000000</td>\n",
       "      <td>506.000000</td>\n",
       "      <td>506.000000</td>\n",
       "      <td>506.000000</td>\n",
       "      <td>506.000000</td>\n",
       "      <td>506.000000</td>\n",
       "      <td>506.000000</td>\n",
       "      <td>506.000000</td>\n",
       "      <td>506.000000</td>\n",
       "      <td>506.000000</td>\n",
       "      <td>506.000000</td>\n",
       "    </tr>\n",
       "    <tr>\n",
       "      <th>mean</th>\n",
       "      <td>3.613524</td>\n",
       "      <td>11.363636</td>\n",
       "      <td>11.136779</td>\n",
       "      <td>0.069170</td>\n",
       "      <td>0.554695</td>\n",
       "      <td>6.284634</td>\n",
       "      <td>68.574901</td>\n",
       "      <td>3.795043</td>\n",
       "      <td>9.549407</td>\n",
       "      <td>408.237154</td>\n",
       "      <td>18.455534</td>\n",
       "      <td>12.653063</td>\n",
       "      <td>22.532806</td>\n",
       "    </tr>\n",
       "    <tr>\n",
       "      <th>std</th>\n",
       "      <td>8.601545</td>\n",
       "      <td>23.322453</td>\n",
       "      <td>6.860353</td>\n",
       "      <td>0.253994</td>\n",
       "      <td>0.115878</td>\n",
       "      <td>0.702617</td>\n",
       "      <td>28.148861</td>\n",
       "      <td>2.105710</td>\n",
       "      <td>8.707259</td>\n",
       "      <td>168.537116</td>\n",
       "      <td>2.164946</td>\n",
       "      <td>7.141062</td>\n",
       "      <td>9.197104</td>\n",
       "    </tr>\n",
       "    <tr>\n",
       "      <th>min</th>\n",
       "      <td>0.006320</td>\n",
       "      <td>0.000000</td>\n",
       "      <td>0.460000</td>\n",
       "      <td>0.000000</td>\n",
       "      <td>0.385000</td>\n",
       "      <td>3.561000</td>\n",
       "      <td>2.900000</td>\n",
       "      <td>1.129600</td>\n",
       "      <td>1.000000</td>\n",
       "      <td>187.000000</td>\n",
       "      <td>12.600000</td>\n",
       "      <td>1.730000</td>\n",
       "      <td>5.000000</td>\n",
       "    </tr>\n",
       "    <tr>\n",
       "      <th>25%</th>\n",
       "      <td>0.082045</td>\n",
       "      <td>0.000000</td>\n",
       "      <td>5.190000</td>\n",
       "      <td>0.000000</td>\n",
       "      <td>0.449000</td>\n",
       "      <td>5.885500</td>\n",
       "      <td>45.025000</td>\n",
       "      <td>2.100175</td>\n",
       "      <td>4.000000</td>\n",
       "      <td>279.000000</td>\n",
       "      <td>17.400000</td>\n",
       "      <td>6.950000</td>\n",
       "      <td>17.025000</td>\n",
       "    </tr>\n",
       "    <tr>\n",
       "      <th>50%</th>\n",
       "      <td>0.256510</td>\n",
       "      <td>0.000000</td>\n",
       "      <td>9.690000</td>\n",
       "      <td>0.000000</td>\n",
       "      <td>0.538000</td>\n",
       "      <td>6.208500</td>\n",
       "      <td>77.500000</td>\n",
       "      <td>3.207450</td>\n",
       "      <td>5.000000</td>\n",
       "      <td>330.000000</td>\n",
       "      <td>19.050000</td>\n",
       "      <td>11.360000</td>\n",
       "      <td>21.200000</td>\n",
       "    </tr>\n",
       "    <tr>\n",
       "      <th>75%</th>\n",
       "      <td>3.677082</td>\n",
       "      <td>12.500000</td>\n",
       "      <td>18.100000</td>\n",
       "      <td>0.000000</td>\n",
       "      <td>0.624000</td>\n",
       "      <td>6.623500</td>\n",
       "      <td>94.075000</td>\n",
       "      <td>5.188425</td>\n",
       "      <td>24.000000</td>\n",
       "      <td>666.000000</td>\n",
       "      <td>20.200000</td>\n",
       "      <td>16.955000</td>\n",
       "      <td>25.000000</td>\n",
       "    </tr>\n",
       "    <tr>\n",
       "      <th>max</th>\n",
       "      <td>88.976200</td>\n",
       "      <td>100.000000</td>\n",
       "      <td>27.740000</td>\n",
       "      <td>1.000000</td>\n",
       "      <td>0.871000</td>\n",
       "      <td>8.780000</td>\n",
       "      <td>100.000000</td>\n",
       "      <td>12.126500</td>\n",
       "      <td>24.000000</td>\n",
       "      <td>711.000000</td>\n",
       "      <td>22.000000</td>\n",
       "      <td>37.970000</td>\n",
       "      <td>50.000000</td>\n",
       "    </tr>\n",
       "  </tbody>\n",
       "</table>\n",
       "</div>"
      ],
      "text/plain": [
       "             CRIM         ZN       INDUS   ...     PTRATIO       LSTAT        MEDV\n",
       "count  506.000000  506.000000  506.000000  ...  506.000000  506.000000  506.000000\n",
       "mean     3.613524   11.363636   11.136779  ...   18.455534   12.653063   22.532806\n",
       "std      8.601545   23.322453    6.860353  ...    2.164946    7.141062    9.197104\n",
       "min      0.006320    0.000000    0.460000  ...   12.600000    1.730000    5.000000\n",
       "25%      0.082045    0.000000    5.190000  ...   17.400000    6.950000   17.025000\n",
       "50%      0.256510    0.000000    9.690000  ...   19.050000   11.360000   21.200000\n",
       "75%      3.677082   12.500000   18.100000  ...   20.200000   16.955000   25.000000\n",
       "max     88.976200  100.000000   27.740000  ...   22.000000   37.970000   50.000000\n",
       "\n",
       "[8 rows x 13 columns]"
      ]
     },
     "execution_count": 67,
     "metadata": {
      "tags": []
     },
     "output_type": "execute_result"
    }
   ],
   "source": [
    "boston.describe()"
   ]
  },
  {
   "cell_type": "code",
   "execution_count": 68,
   "metadata": {
    "colab": {
     "base_uri": "https://localhost:8080/"
    },
    "id": "_-n-EsF04i14",
    "outputId": "2db8284a-f2d6-4095-8db2-23b9005ff65f"
   },
   "outputs": [
    {
     "data": {
      "text/plain": [
       "Index(['CRIM', ' ZN ', 'INDUS ', 'CHAS', 'NOX', 'RM', 'AGE', 'DIS', 'RAD',\n",
       "       'TAX', 'PTRATIO', 'LSTAT', 'MEDV'],\n",
       "      dtype='object')"
      ]
     },
     "execution_count": 68,
     "metadata": {
      "tags": []
     },
     "output_type": "execute_result"
    }
   ],
   "source": [
    "# afficher les noms des variables explicatives (“feature”) \n",
    "boston.columns"
   ]
  },
  {
   "cell_type": "markdown",
   "metadata": {
    "id": "VZlHUFrJ4i14"
   },
   "source": [
    "# Régression linéaire simple"
   ]
  },
  {
   "cell_type": "markdown",
   "metadata": {
    "id": "7wODpELF4i14"
   },
   "source": [
    "## $$f(X)=aX+b $$"
   ]
  },
  {
   "cell_type": "code",
   "execution_count": 69,
   "metadata": {
    "colab": {
     "base_uri": "https://localhost:8080/"
    },
    "id": "PxdHhOBE4i14",
    "outputId": "e0ed8fb4-db96-479c-cdd5-cf7c38d8fdc9"
   },
   "outputs": [
    {
     "name": "stdout",
     "output_type": "stream",
     "text": [
      "(506, 1)\n",
      "(506, 1)\n"
     ]
    }
   ],
   "source": [
    "# Dans un premier temps, nous estimons le prix d'une maison \n",
    "#en utilisant une seule variable soit 'RM'\n",
    "X = boston[['RM']]\n",
    "y = boston[['MEDV']]\n",
    "print(X.shape)\n",
    "print(X.shape)"
   ]
  },
  {
   "cell_type": "code",
   "execution_count": 70,
   "metadata": {
    "id": "dWrkOz_z4i15"
   },
   "outputs": [],
   "source": [
    "# chargement du modèle LinearRegression \n",
    "from sklearn.linear_model import LinearRegression\n",
    "from sklearn.model_selection import train_test_split\n",
    "X_train, X_test, y_train, y_test=train_test_split(X, y, test_size=0.2, random_state=3)"
   ]
  },
  {
   "cell_type": "code",
   "execution_count": 71,
   "metadata": {
    "colab": {
     "base_uri": "https://localhost:8080/"
    },
    "id": "KGkiIUc84i15",
    "outputId": "ea93b275-56a3-4a00-ce20-d95db63c38fa"
   },
   "outputs": [
    {
     "data": {
      "text/plain": [
       "array([[9.01161594]])"
      ]
     },
     "execution_count": 71,
     "metadata": {
      "tags": []
     },
     "output_type": "execute_result"
    }
   ],
   "source": [
    "#Créer une instance linreg1 \n",
    "linreg1 = LinearRegression()\n",
    "#Entrainer linreg1 avec les sous-ensembles d'apprentissage puis caluler le test_score de linreg1\n",
    "# Entrainer le modèle \n",
    "linreg1.fit(X_train, y_train)\n",
    "#Aficcher l'intercept de linreg1\n",
    "linreg1.intercept_\n",
    "#Afficher les coefficients de linreg1\n",
    "linreg1.coef_"
   ]
  },
  {
   "cell_type": "markdown",
   "metadata": {
    "id": "0RZSaetw4i15"
   },
   "source": [
    "### Les metriques d'un algorithme de regression\n",
    "$$ R2 =1- \\frac{\\sum  (y_{vrai} - y_{pred} )^2}{\\sum  (y_{vrai} - \\overline{ y_{vrai}} )^2}  $$\n",
    "$$ MAE = \\frac{1}{m} \\sum \\lvert y_{vrai} - y_{pred} \\rvert $$\n",
    "$$ MSE = \\frac{1}{m} \\sum  (y_{vrai} - y_{pred} )^2 $$\n",
    "$$ RMSE = \\sqrt {\\frac{1}{m} \\sum  (y_{vrai} - y_{pred} )^2 }$$\n",
    "$$MedianAE =median{\\lvert y_{vrai} - y_{pred} \\rvert} $$"
   ]
  },
  {
   "cell_type": "code",
   "execution_count": 72,
   "metadata": {
    "colab": {
     "base_uri": "https://localhost:8080/"
    },
    "id": "MdW8Jrc74i15",
    "outputId": "7b6e6884-4f2a-485d-c06d-942c6df1c9d6"
   },
   "outputs": [
    {
     "name": "stdout",
     "output_type": "stream",
     "text": [
      "test_score =  0.5721625318143686\n",
      "R2 =  0.5721625318143686\n",
      "MAE =  35.405605378778255\n",
      "RMSE =  5.950260950477571\n",
      "MAE =  4.365257521734309\n",
      "MeadianAE =  3.2136662246741805\n"
     ]
    }
   ],
   "source": [
    "#Evaluation de la prédiction\n",
    "from sklearn.metrics import mean_absolute_error, mean_squared_error, median_absolute_error, r2_score\n",
    "y_pred = linreg1.predict(X_test)\n",
    "print('test_score = ',linreg1.score(X_test,y_test)) \n",
    "print('R2 = ',r2_score(y_test, y_pred))\n",
    "print('MAE = ',mean_squared_error(y_test, y_pred))\n",
    "print('RMSE = ', np.sqrt(mean_squared_error(y_test, y_pred)))\n",
    "print('MAE = ', mean_absolute_error(y_test, y_pred))\n",
    "print('MeadianAE = ', median_absolute_error(y_test, y_pred))"
   ]
  },
  {
   "cell_type": "code",
   "execution_count": 73,
   "metadata": {
    "colab": {
     "base_uri": "https://localhost:8080/"
    },
    "id": "VOhvLbfm9lQE",
    "outputId": "88e621e7-e92b-457b-8317-4c4611e32b00"
   },
   "outputs": [
    {
     "name": "stdout",
     "output_type": "stream",
     "text": [
      "R2 Adjusted =  0.5713136479489209\n"
     ]
    }
   ],
   "source": [
    "#Adj r2 = 1-(1-R2)*(n-1)/(n-p-1)\n",
    "R2Adj = 1-(1-r2_score(y_test, y_pred))*(506-1)/(506-1-1)\n",
    "print('R2 Adjusted = ',R2Adj)\n",
    "\n"
   ]
  },
  {
   "cell_type": "code",
   "execution_count": 74,
   "metadata": {
    "colab": {
     "base_uri": "https://localhost:8080/",
     "height": 298
    },
    "id": "OKMb8aHLU4eR",
    "outputId": "a788d1e0-7ba4-475c-9723-9f1941518f65"
   },
   "outputs": [
    {
     "data": {
      "text/plain": [
       "Text(0.5, 1.0, 'Actuals vs Regression Line')"
      ]
     },
     "execution_count": 74,
     "metadata": {
      "tags": []
     },
     "output_type": "execute_result"
    },
    {
     "data": {
      "image/png": "[encoded data removed]",
      "text/plain": [
       "<Figure size 432x288 with 1 Axes>"
      ]
     },
     "metadata": {
      "needs_background": "light",
      "tags": []
     },
     "output_type": "display_data"
    }
   ],
   "source": [
    "#Plot Our Actual and Predicted Values\n",
    "plt.plot(X_test, y_test, 'o', color='black');\n",
    "plt.plot(X_test,y_pred,color='blue')\n",
    "plt.title(\"Actuals vs Regression Line\")"
   ]
  },
  {
   "cell_type": "code",
   "execution_count": 75,
   "metadata": {
    "colab": {
     "base_uri": "https://localhost:8080/"
    },
    "id": "mcR98gQSXTud",
    "outputId": "6c5ce2f3-5b45-4fbd-f20c-4cd3bd186563"
   },
   "outputs": [
    {
     "name": "stdout",
     "output_type": "stream",
     "text": [
      "                                 OLS Regression Results                                \n",
      "=======================================================================================\n",
      "Dep. Variable:                   MEDV   R-squared (uncentered):                   0.912\n",
      "Model:                            OLS   Adj. R-squared (uncentered):              0.912\n",
      "Method:                 Least Squares   F-statistic:                              1052.\n",
      "Date:                Tue, 15 Dec 2020   Prob (F-statistic):                    3.28e-55\n",
      "Time:                        21:58:06   Log-Likelihood:                         -347.27\n",
      "No. Observations:                 102   AIC:                                      696.5\n",
      "Df Residuals:                     101   BIC:                                      699.2\n",
      "Df Model:                           1                                                  \n",
      "Covariance Type:            nonrobust                                                  \n",
      "==============================================================================\n",
      "                 coef    std err          t      P>|t|      [0.025      0.975]\n",
      "------------------------------------------------------------------------------\n",
      "RM             3.6980      0.114     32.433      0.000       3.472       3.924\n",
      "==============================================================================\n",
      "Omnibus:                       19.855   Durbin-Watson:                   2.118\n",
      "Prob(Omnibus):                  0.000   Jarque-Bera (JB):               24.937\n",
      "Skew:                           1.023   Prob(JB):                     3.85e-06\n",
      "Kurtosis:                       4.297   Cond. No.                         1.00\n",
      "==============================================================================\n",
      "\n",
      "Warnings:\n",
      "[1] Standard Errors assume that the covariance matrix of the errors is correctly specified.\n"
     ]
    }
   ],
   "source": [
    "import statsmodels.api as sm\n",
    "est = sm.OLS(y_test, X_test)\n",
    "est2 = est.fit()\n",
    "print(est2.summary())"
   ]
  },
  {
   "cell_type": "code",
   "execution_count": null,
   "metadata": {},
   "outputs": [],
   "source": [
    "#YOUFA HOUNI EL REGRESSION"
   ]
  },
  {
   "cell_type": "code",
   "execution_count": null,
   "metadata": {},
   "outputs": [],
   "source": []
  },
  {
   "cell_type": "code",
   "execution_count": null,
   "metadata": {},
   "outputs": [],
   "source": []
  },
  {
   "cell_type": "markdown",
   "metadata": {
    "id": "-av1MAEk4i15"
   },
   "source": [
    "# Régression linéaire multiple"
   ]
  },
  {
   "cell_type": "code",
   "execution_count": null,
   "metadata": {},
   "outputs": [],
   "source": []
  },
  {
   "cell_type": "code",
   "execution_count": null,
   "metadata": {},
   "outputs": [],
   "source": []
  },
  {
   "cell_type": "code",
   "execution_count": null,
   "metadata": {},
   "outputs": [],
   "source": []
  },
  {
   "cell_type": "code",
   "execution_count": null,
   "metadata": {},
   "outputs": [],
   "source": []
  },
  {
   "cell_type": "code",
   "execution_count": null,
   "metadata": {},
   "outputs": [],
   "source": []
  },
  {
   "cell_type": "markdown",
   "metadata": {
    "id": "AyWGm3Q94i15"
   },
   "source": [
    "## $$f(X_1,X_2,...)= a_0 + a_1*X_1 + a_2*X_2 + .... + a_{12}*X12$$"
   ]
  },
  {
   "cell_type": "code",
   "execution_count": 76,
   "metadata": {
    "id": "7-__q_E64i15"
   },
   "outputs": [],
   "source": [
    "X = boston.drop('MEDV', axis=1)\n",
    "y = boston[['MEDV']]\n",
    "X_train, X_test, y_train, y_test=train_test_split(X, y, test_size=0.2, random_state=3)"
   ]
  },
  {
   "cell_type": "code",
   "execution_count": 77,
   "metadata": {
    "colab": {
     "base_uri": "https://localhost:8080/"
    },
    "id": "1kMcRkkL4i15",
    "outputId": "ea692f0e-758c-4876-8986-dd99b93fb618"
   },
   "outputs": [
    {
     "name": "stdout",
     "output_type": "stream",
     "text": [
      "test_score =  0.7939670979504738\n",
      "R2 =  0.7939670979504738\n",
      "MAE =  17.050212212467905\n",
      "RMSE =  4.129190261112693\n",
      "MAE =  3.014140203607046\n",
      "MeadianAE =  2.189929292326429\n",
      "Intercept =  [41.71801439]\n",
      "Coefficients :  [[-1.36030883e-01  4.91228973e-02 -5.71075834e-02  3.58328502e+00\n",
      "  -1.65787614e+01  3.37070733e+00 -5.89271816e-03 -1.49182712e+00\n",
      "   2.79551096e-01 -1.10632713e-02 -8.87534865e-01 -5.13568824e-01]]\n"
     ]
    }
   ],
   "source": [
    "#Régression linéaire multiple (toutes les variables de Boston) \n",
    "linreg2 = LinearRegression(fit_intercept= True, normalize=False) \n",
    "#pour imposer une ordonnée à l'origine (Par défaut ='True')\n",
    "# Normalisation des données normalize=True\n",
    "linreg2.fit(X_train, y_train)\n",
    "y_pred = linreg2.predict(X_test)\n",
    "\n",
    "print('test_score = ',linreg2.score(X_test,y_test)) \n",
    "print('R2 = ',r2_score(y_test, y_pred))\n",
    "print('MAE = ',mean_squared_error(y_test, y_pred))\n",
    "print('RMSE = ', np.sqrt(mean_squared_error(y_test, y_pred)))\n",
    "print('MAE = ', mean_absolute_error(y_test, y_pred))\n",
    "print('MeadianAE = ', median_absolute_error(y_test, y_pred))\n",
    "\n",
    "print('Intercept = ', linreg2.intercept_)\n",
    "print('Coefficients : ',linreg2.coef_)"
   ]
  },
  {
   "cell_type": "code",
   "execution_count": 78,
   "metadata": {
    "colab": {
     "base_uri": "https://localhost:8080/",
     "height": 313
    },
    "id": "e2ZYkIhwS6OR",
    "outputId": "52fd6ef1-09cb-4259-cdb6-f0c4be74ca36"
   },
   "outputs": [
    {
     "data": {
      "text/plain": [
       "Text(0, 0.5, 'Residual')"
      ]
     },
     "execution_count": 78,
     "metadata": {
      "tags": []
     },
     "output_type": "execute_result"
    },
    {
     "data": {
      "image/png": "[encoded data removed]",
      "text/plain": [
       "<Figure size 432x288 with 1 Axes>"
      ]
     },
     "metadata": {
      "needs_background": "light",
      "tags": []
     },
     "output_type": "display_data"
    }
   ],
   "source": [
    "residuals = y_test-y_pred\n",
    "plt.plot(X_test,residuals, 'o', color='darkblue')\n",
    "plt.title(\"Residual Plot\")\n",
    "plt.xlabel(\"Independent Variable\")\n",
    "plt.ylabel(\"Residual\")"
   ]
  },
  {
   "cell_type": "code",
   "execution_count": 79,
   "metadata": {
    "colab": {
     "base_uri": "https://localhost:8080/"
    },
    "id": "e5LHdOocaEOs",
    "outputId": "caa12ca9-2e3c-433d-c3a0-e728879f91f6"
   },
   "outputs": [
    {
     "name": "stdout",
     "output_type": "stream",
     "text": [
      "                                 OLS Regression Results                                \n",
      "=======================================================================================\n",
      "Dep. Variable:                   MEDV   R-squared (uncentered):                   0.973\n",
      "Model:                            OLS   Adj. R-squared (uncentered):              0.970\n",
      "Method:                 Least Squares   F-statistic:                              274.3\n",
      "Date:                Tue, 15 Dec 2020   Prob (F-statistic):                    2.52e-65\n",
      "Time:                        21:58:15   Log-Likelihood:                         -286.52\n",
      "No. Observations:                 102   AIC:                                      597.0\n",
      "Df Residuals:                      90   BIC:                                      628.5\n",
      "Df Model:                          12                                                  \n",
      "Covariance Type:            nonrobust                                                  \n",
      "==============================================================================\n",
      "                 coef    std err          t      P>|t|      [0.025      0.975]\n",
      "------------------------------------------------------------------------------\n",
      "CRIM           0.1918      0.114      1.685      0.096      -0.034       0.418\n",
      " ZN            0.0441      0.025      1.750      0.084      -0.006       0.094\n",
      "INDUS          0.1909      0.125      1.533      0.129      -0.057       0.438\n",
      "CHAS           3.5781      1.745      2.051      0.043       0.112       7.044\n",
      "NOX          -12.0035      6.980     -1.720      0.089     -25.871       1.864\n",
      "RM             7.0333      0.568     12.389      0.000       5.905       8.161\n",
      "AGE            0.0314      0.029      1.091      0.278      -0.026       0.089\n",
      "DIS           -0.7291      0.426     -1.712      0.090      -1.575       0.117\n",
      "RAD            0.0808      0.140      0.579      0.564      -0.197       0.358\n",
      "TAX           -0.0139      0.008     -1.692      0.094      -0.030       0.002\n",
      "PTRATIO       -0.2945      0.198     -1.484      0.141      -0.689       0.100\n",
      "LSTAT         -0.6419      0.113     -5.664      0.000      -0.867      -0.417\n",
      "==============================================================================\n",
      "Omnibus:                       19.762   Durbin-Watson:                   1.943\n",
      "Prob(Omnibus):                  0.000   Jarque-Bera (JB):               34.429\n",
      "Skew:                           0.806   Prob(JB):                     3.34e-08\n",
      "Kurtosis:                       5.345   Cond. No.                     7.31e+03\n",
      "==============================================================================\n",
      "\n",
      "Warnings:\n",
      "[1] Standard Errors assume that the covariance matrix of the errors is correctly specified.\n",
      "[2] The condition number is large, 7.31e+03. This might indicate that there are\n",
      "strong multicollinearity or other numerical problems.\n"
     ]
    }
   ],
   "source": [
    "import statsmodels.api as sm\n",
    "est1 = sm.OLS(y_test, X_test)\n",
    "est2 = est1.fit()\n",
    "print(est2.summary())"
   ]
  },
  {
   "cell_type": "markdown",
   "metadata": {
    "id": "9jjr-Dkr4i15"
   },
   "source": [
    "# Sélection de variables"
   ]
  },
  {
   "cell_type": "code",
   "execution_count": 80,
   "metadata": {
    "id": "V-1oCJze4i15"
   },
   "outputs": [],
   "source": [
    "# Define the X (inputs) and y (target) features\n",
    "X = boston.drop(\"MEDV\", axis=1)\n",
    "y = boston[\"MEDV\"]"
   ]
  },
  {
   "cell_type": "code",
   "execution_count": 81,
   "metadata": {
    "id": "nR4SwKuC4i15"
   },
   "outputs": [],
   "source": [
    "import pandas as pd\n",
    "from sklearn.preprocessing import MinMaxScaler, StandardScaler, RobustScaler\n",
    "from sklearn.model_selection import train_test_split"
   ]
  },
  {
   "cell_type": "code",
   "execution_count": 82,
   "metadata": {
    "id": "dUpIf0Us4i15"
   },
   "outputs": [],
   "source": [
    "#Centrage-réduction des données des données\n",
    "#sc = StandardScaler()\n",
    "#X_sc = sc.fit_transform(X)\n",
    "#X = pd.DataFrame(X_sc, columns=X.columns)\n",
    "#X.head()"
   ]
  },
  {
   "cell_type": "code",
   "execution_count": 83,
   "metadata": {
    "colab": {
     "base_uri": "https://localhost:8080/"
    },
    "id": "WY9SxeiI4i16",
    "outputId": "9100383c-ce91-4381-9001-230d3e554722"
   },
   "outputs": [
    {
     "name": "stdout",
     "output_type": "stream",
     "text": [
      "(404, 12)\n",
      "(102, 12)\n"
     ]
    }
   ],
   "source": [
    "X_train, X_test, y_train, y_test = train_test_split(X, y, test_size=0.2, random_state=3)\n",
    "print(X_train.shape)\n",
    "print(X_test.shape)"
   ]
  },
  {
   "cell_type": "markdown",
   "metadata": {
    "id": "wuB3dNJ-Ephw"
   },
   "source": [
    "**VarianceThreshold** removes features with a variance less than the specified threshold. Consider a feature that takes the same value for all the observations (rows) in the dataset. It would not add any informative power to a model. Using this feature also adds an unnecessary computation burden. Thus, we should just eliminate it from the dataset."
   ]
  },
  {
   "cell_type": "code",
   "execution_count": 84,
   "metadata": {
    "colab": {
     "base_uri": "https://localhost:8080/"
    },
    "id": "v7tC0xJT4i16",
    "outputId": "0eea8ca1-41b4-44d1-dd30-2b8c3c04113e"
   },
   "outputs": [
    {
     "data": {
      "text/plain": [
       "CRIM          73.986578\n",
       " ZN          543.936814\n",
       "INDUS         47.064442\n",
       "CHAS           0.064513\n",
       "NOX            0.013428\n",
       "RM             0.493671\n",
       "AGE          792.358399\n",
       "DIS            4.434015\n",
       "RAD           75.816366\n",
       "TAX        28404.759488\n",
       "PTRATIO        4.686989\n",
       "LSTAT         50.994760\n",
       "dtype: float64"
      ]
     },
     "execution_count": 84,
     "metadata": {
      "tags": []
     },
     "output_type": "execute_result"
    }
   ],
   "source": [
    "# Variance de chaque variable\n",
    "X.var()"
   ]
  },
  {
   "cell_type": "code",
   "execution_count": 85,
   "metadata": {
    "colab": {
     "base_uri": "https://localhost:8080/"
    },
    "id": "8Yn0LtBV4i16",
    "outputId": "66b78e40-db12-4a05-a5d0-901adc23678b"
   },
   "outputs": [
    {
     "name": "stdout",
     "output_type": "stream",
     "text": [
      "Sélection de variables : [ True  True  True  True False  True  True  True  True  True  True  True]\n",
      "Variables sélectionnées : ['CRIM', ' ZN ', 'INDUS ', 'CHAS', 'RM', 'AGE', 'DIS', 'RAD', 'TAX', 'PTRATIO', 'LSTAT']\n",
      "Variables supprimées : ['NOX']\n"
     ]
    }
   ],
   "source": [
    "# Perform feature selection using a variance threshold\n",
    "\n",
    "from sklearn.feature_selection import VarianceThreshold\n",
    "\n",
    "sel = VarianceThreshold(threshold=(0.02))\n",
    "sel.fit(X_train)\n",
    "\n",
    "print(\"Sélection de variables :\", sel.get_support())\n",
    "print(\"Variables sélectionnées :\", list(X.columns[sel.get_support()]))\n",
    "print(\"Variables supprimées :\", list(X.columns[~sel.get_support()]))"
   ]
  },
  {
   "cell_type": "code",
   "execution_count": 86,
   "metadata": {
    "colab": {
     "base_uri": "https://localhost:8080/"
    },
    "id": "8GNw_3CG4i16",
    "outputId": "be9ca562-f600-4edc-c4d0-86a9accbb998"
   },
   "outputs": [
    {
     "name": "stdout",
     "output_type": "stream",
     "text": [
      "test_score =  0.7693483320954275\n",
      "R2 =  0.7693483320954275\n",
      "MAE =  19.08753332993048\n",
      "RMSE =  4.368928167174471\n",
      "MAE =  3.1513652640657743\n",
      "Meadian =  2.511628383143437\n"
     ]
    }
   ],
   "source": [
    "# Suppression de variables à faible variance\n",
    "X_train = sel.transform(X_train)\n",
    "X_test = sel.transform(X_test)\n",
    "model = LinearRegression()\n",
    "model.fit(X_train, y_train)\n",
    "y_pred = model.predict(X_test)\n",
    "\n",
    "print('test_score = ',model.score(X_test,y_test)) \n",
    "print('R2 = ',r2_score(y_test, y_pred))\n",
    "print('MAE = ',mean_squared_error(y_test, y_pred))\n",
    "print('RMSE = ', np.sqrt(mean_squared_error(y_test, y_pred)))\n",
    "print('MAE = ', mean_absolute_error(y_test, y_pred))\n",
    "print('Meadian = ', median_absolute_error(y_test, y_pred))\n"
   ]
  },
  {
   "cell_type": "markdown",
   "metadata": {
    "id": "HpMwjxkf4i16"
   },
   "source": [
    "## Selection de variables avec `SelectKBest`"
   ]
  },
  {
   "cell_type": "markdown",
   "metadata": {
    "id": "6FavKKh7WS8l"
   },
   "source": [
    "It takes as a parameter a score function, which must be applicable to a pair (X, y). The score function must return an array of scores, one for each feature X[:,i] of X"
   ]
  },
  {
   "cell_type": "code",
   "execution_count": 87,
   "metadata": {
    "colab": {
     "base_uri": "https://localhost:8080/"
    },
    "id": "MgN_BN0E4i16",
    "outputId": "de8c4d6f-c99d-4a29-9319-177e34c84759"
   },
   "outputs": [
    {
     "name": "stdout",
     "output_type": "stream",
     "text": [
      "(404, 12)\n",
      "(102, 12)\n"
     ]
    }
   ],
   "source": [
    "X_train, X_test, y_train, y_test = train_test_split(X, y, test_size=0.2, random_state=3)\n",
    "print(X_train.shape)\n",
    "print(X_test.shape)"
   ]
  },
  {
   "cell_type": "code",
   "execution_count": 88,
   "metadata": {
    "colab": {
     "base_uri": "https://localhost:8080/"
    },
    "id": "EvdNgdYE4i16",
    "outputId": "afef608c-5b61-4010-cab6-eb8edc274fd1"
   },
   "outputs": [
    {
     "name": "stdout",
     "output_type": "stream",
     "text": [
      "Sélection de variables : [False False  True False False  True False False False False False  True]\n",
      "Scores de variables : [ 69.32607475  61.471421   134.32222259  25.30149275  89.893855\n",
      " 344.39434272  73.80483069  27.27794661  63.59031524 108.45903872\n",
      " 129.00041566 467.16420955]\n",
      "Variables sélectionnées: ['INDUS ', 'RM', 'LSTAT']\n",
      "Variables supprimées : ['CRIM', ' ZN ', 'CHAS', 'NOX', 'AGE', 'DIS', 'RAD', 'TAX', 'PTRATIO']\n"
     ]
    }
   ],
   "source": [
    "from sklearn.feature_selection import SelectKBest\n",
    "from sklearn.feature_selection import f_classif      \n",
    "from sklearn.feature_selection import f_regression  \n",
    "#Score function:\n",
    "#For regression: f_regression, mutual_info_regression\n",
    "#For classification: chi2, f_classif, mutual_info_classif\n",
    "\n",
    "kbest = SelectKBest(score_func=f_regression, k=3)\n",
    "kbest.fit(X_train, y_train)\n",
    "print(\"Sélection de variables :\", kbest.get_support())\n",
    "print(\"Scores de variables :\", kbest.scores_)\n",
    "print(\"Variables sélectionnées:\", list(X.columns[kbest.get_support()]))\n",
    "print(\"Variables supprimées :\", list(X.columns[~kbest.get_support()]))"
   ]
  },
  {
   "cell_type": "code",
   "execution_count": 89,
   "metadata": {
    "colab": {
     "base_uri": "https://localhost:8080/"
    },
    "id": "Ion9das-4i16",
    "outputId": "52d9ca3f-a73a-4733-adaa-05306b3f1e0d"
   },
   "outputs": [
    {
     "name": "stdout",
     "output_type": "stream",
     "text": [
      "test_score =  0.7019405174428994\n",
      "R2 =  0.7019405174428994\n",
      "MAE =  24.6658537494916\n",
      "RMSE =  4.966472968766829\n",
      "MAE =  3.709885123876638\n",
      "Meadian =  3.102422130966522\n"
     ]
    }
   ],
   "source": [
    "X_train = kbest.transform(X_train)\n",
    "X_test = kbest.transform(X_test)\n",
    "model = LinearRegression()\n",
    "model.fit(X_train, y_train)\n",
    "y_pred = model.predict(X_test)\n",
    "\n",
    "print('test_score = ',model.score(X_test,y_test)) \n",
    "print('R2 = ',r2_score(y_test, y_pred))\n",
    "print('MAE = ',mean_squared_error(y_test, y_pred))\n",
    "print('RMSE = ', np.sqrt(mean_squared_error(y_test, y_pred)))\n",
    "print('MAE = ', mean_absolute_error(y_test, y_pred))\n",
    "print('Meadian = ', median_absolute_error(y_test, y_pred))\n"
   ]
  },
  {
   "cell_type": "markdown",
   "metadata": {
    "id": "LFQmmVXo4i16"
   },
   "source": [
    "## Sélection de variables avec Recursive Feature Elimination (RFE)"
   ]
  },
  {
   "cell_type": "markdown",
   "metadata": {
    "id": "myAI67KkYiyQ"
   },
   "source": [
    "Recursive Feature Elimination (RFE) works by eliminating features recursively. The elimination is done based on outputs from an estimator that assigns some kind of weights to features. For instance, the weights can be the coefficients of a linear regression or feature importances of a decision tree.\n",
    "The process starts by training the estimator on the entire dataset. Then, the least important features are pruned. After that, the estimator is trained with the remaining features and the least important features are pruned again. This process is repeated until the desired number of features is reached."
   ]
  },
  {
   "cell_type": "code",
   "execution_count": 90,
   "metadata": {
    "colab": {
     "base_uri": "https://localhost:8080/"
    },
    "id": "idOZN7ct4i16",
    "outputId": "3f74daf2-e74b-4511-d607-036d2de4046f"
   },
   "outputs": [
    {
     "name": "stdout",
     "output_type": "stream",
     "text": [
      "(404, 12)\n",
      "(102, 12)\n"
     ]
    }
   ],
   "source": [
    "X_train, X_test, y_train, y_test = train_test_split(X, y, test_size=0.2, random_state=3)\n",
    "print(X_train.shape)\n",
    "print(X_test.shape)"
   ]
  },
  {
   "cell_type": "code",
   "execution_count": 91,
   "metadata": {
    "colab": {
     "base_uri": "https://localhost:8080/"
    },
    "id": "bqvY15XA4i16",
    "outputId": "58561971-de2b-4bb7-83c7-2500dcede7c9"
   },
   "outputs": [
    {
     "name": "stdout",
     "output_type": "stream",
     "text": [
      "Sélection de variables [False False  True  True  True  True False  True  True False  True  True]\n",
      "Classement de variables [2 3 1 1 1 1 5 1 1 4 1 1]\n",
      "Variables sélectionnées : ['INDUS ', 'CHAS', 'NOX', 'RM', 'DIS', 'RAD', 'PTRATIO', 'LSTAT']\n"
     ]
    }
   ],
   "source": [
    "from sklearn.linear_model import LinearRegression\n",
    "from sklearn.feature_selection import RFE\n",
    "model = LinearRegression()\n",
    "rfe = RFE(model, n_features_to_select=8)\n",
    "rfe.fit(X_train, y_train)\n",
    "print(\"Sélection de variables\", rfe.support_)\n",
    "print(\"Classement de variables\", rfe.ranking_)\n",
    "print(\"Variables sélectionnées :\", list(X.columns[rfe.support_]))"
   ]
  },
  {
   "cell_type": "code",
   "execution_count": 92,
   "metadata": {
    "colab": {
     "base_uri": "https://localhost:8080/"
    },
    "id": "aWDXPd5H4i16",
    "outputId": "5e397a50-4675-4bfd-ee2f-851e0e5139ba"
   },
   "outputs": [
    {
     "name": "stdout",
     "output_type": "stream",
     "text": [
      "(404, 8)\n",
      "(102, 8)\n"
     ]
    }
   ],
   "source": [
    "X_train = rfe.transform(X_train)\n",
    "X_test = rfe.transform(X_test)\n",
    "print(X_train.shape)\n",
    "print(X_test.shape)"
   ]
  },
  {
   "cell_type": "code",
   "execution_count": 93,
   "metadata": {
    "colab": {
     "base_uri": "https://localhost:8080/"
    },
    "id": "KEbv2Bvs4i16",
    "outputId": "15d3ce46-4ea8-4c39-f911-1f95301402aa"
   },
   "outputs": [
    {
     "name": "stdout",
     "output_type": "stream",
     "text": [
      "test_score =  0.7873552908093244\n",
      "R2 =  0.7873552908093244\n",
      "MAE =  17.597371009645876\n",
      "RMSE =  4.194922050485071\n",
      "MAE =  3.0941310127385093\n",
      "Meadian =  2.301687608651182\n"
     ]
    }
   ],
   "source": [
    "model = LinearRegression()\n",
    "model.fit(X_train, y_train)\n",
    "y_pred = model.predict(X_test)\n",
    "\n",
    "print('test_score = ',model.score(X_test,y_test)) \n",
    "print('R2 = ',r2_score(y_test, y_pred))\n",
    "print('MAE = ',mean_squared_error(y_test, y_pred))\n",
    "print('RMSE = ', np.sqrt(mean_squared_error(y_test, y_pred)))\n",
    "print('MAE = ', mean_absolute_error(y_test, y_pred))\n",
    "print('Meadian = ', median_absolute_error(y_test, y_pred))\n"
   ]
  },
  {
   "cell_type": "code",
   "execution_count": 93,
   "metadata": {
    "id": "Hiw-TiaJaXhA"
   },
   "outputs": [],
   "source": []
  }
 ],
 "metadata": {
  "colab": {
   "name": "Notebook_RegressionLineraire_4DS1.ipynb",
   "provenance": []
  },
  "kernelspec": {
   "display_name": "Python 3 (ipykernel)",
   "language": "python",
   "name": "python3"
  },
  "language_info": {
   "codemirror_mode": {
    "name": "ipython",
    "version": 3
   },
   "file_extension": ".py",
   "mimetype": "text/x-python",
   "name": "python",
   "nbconvert_exporter": "python",
   "pygments_lexer": "ipython3",
   "version": "3.9.7"
  }
 },
 "nbformat": 4,
 "nbformat_minor": 1
}
